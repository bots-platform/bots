{
 "cells": [
  {
   "cell_type": "code",
   "execution_count": 1,
   "metadata": {},
   "outputs": [],
   "source": [
    "import pandas as pd"
   ]
  },
  {
   "cell_type": "code",
   "execution_count": 4,
   "metadata": {},
   "outputs": [
    {
     "name": "stdout",
     "output_type": "stream",
     "text": [
      "        Fecha      Hora                       Remitente  \\\n",
      "0  2025-01-17  16:04:19       LENIN ESTEBAN SILVA DURAN   \n",
      "1  2025-01-17  15:59:36        DANIEL MOISES ROJAS TACO   \n",
      "2  2025-01-17  15:57:35       LENIN ESTEBAN SILVA DURAN   \n",
      "3  2025-01-17  15:54:10  DANNER HENDERSON SOTO MOGOLLON   \n",
      "4  2025-01-17  15:52:55       LENIN ESTEBAN SILVA DURAN   \n",
      "\n",
      "                                              Asunto         Ticket  \\\n",
      "0                     RE: anexo no carga la Vlan voz             ok   \n",
      "1  RE: Trouble - rMPFN_MARAON_DF Huánuco_CUISMP11...  No encontrado   \n",
      "2  RE: SOLICITO HABILITACION DE DIRECCION IP POR ...             ok   \n",
      "3  RE: Critical - rMPFN_CAYALTI2_DF Lambayeque_CU...  No encontrado   \n",
      "4                  RE: SOLICITO ACCESO AL WETRANSFER             ok   \n",
      "\n",
      "                                     Cuerpo Completo  \n",
      "0  Estimado Sr. Diego\\n\\nbuenas tardes, se genera...  \n",
      "1  Estimado Sr. Jose Saldivar,\\n\\n \\n\\nBuenas tar...  \n",
      "2  Estimado Sr. Hermilio\\n\\n \\n\\nBuenas tardes, e...  \n",
      "3  Estimado Sr. Darwin Ramos,\\n\\n\\nBuenas tardes,...  \n",
      "4  Estimado Sr. Hermilio\\n\\n \\n\\nBuenas tardes, e...  \n"
     ]
    }
   ],
   "source": [
    "df = pd.read_excel(\"emails_tickets_20250127_120226.xlsx\")\n",
    "print(df.head())"
   ]
  }
 ],
 "metadata": {
  "kernelspec": {
   "display_name": "venv",
   "language": "python",
   "name": "python3"
  },
  "language_info": {
   "codemirror_mode": {
    "name": "ipython",
    "version": 3
   },
   "file_extension": ".py",
   "mimetype": "text/x-python",
   "name": "python",
   "nbconvert_exporter": "python",
   "pygments_lexer": "ipython3",
   "version": "3.10.11"
  }
 },
 "nbformat": 4,
 "nbformat_minor": 2
}
