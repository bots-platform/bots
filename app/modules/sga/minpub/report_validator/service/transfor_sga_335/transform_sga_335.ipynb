{
 "cells": [
  {
   "cell_type": "code",
   "execution_count": 2,
   "metadata": {},
   "outputs": [],
   "source": [
    "import pandas as pd\n",
    "from pathlib import Path\n",
    "pd.set_option('display.max_rows', None)\n",
    "import re"
   ]
  },
  {
   "cell_type": "code",
   "execution_count": 8,
   "metadata": {},
   "outputs": [],
   "source": [
    "BASE_DIR = Path.cwd().parent.parent.parent.parent.parent.parent.parent\n",
    "SAVE_DIR_EXTRACT_SGA_335 = BASE_DIR / \"media\" / \"minpub\" / \"validator_report\" / \"extract\" / \"sga_335\"/\"minpuSGA.xlsx\"  "
   ]
  },
  {
   "cell_type": "code",
   "execution_count": null,
   "metadata": {},
   "outputs": [],
   "source": [
    "df = pd.read_excel(SAVE_DIR_EXTRACT_SGA_335)\n",
    "df.head(3)"
   ]
  },
  {
   "cell_type": "code",
   "execution_count": 10,
   "metadata": {},
   "outputs": [],
   "source": [
    "def determine_tipo_reporte(row):\n",
    "    \n",
    "    if row['nro_incidencia'] in [\"21713978\", \"21706774\"]:\n",
    "        return \"PROACTIVO\"\n",
    "    if row['tipo_caso'] == \"OTROS CALIDAD-MONITOREO\" and row['tipo_servicio'] == \"Acceso Dedicado a Internet\":\n",
    "        return \"PROACTIVO\"\n",
    "    if row['tipo_caso'] == \"ENLACE INTERMITENTE - MONITOREO\" and row['tipo_servicio'] == \"Red Privada Virtual Local\":\n",
    "        return \"PROACTIVO\"\n",
    "    #if row['Conteo para proactivo'] == 1:\n",
    "        return \"PROACTIVO\"\n",
    "    return \"RECLAMO\"\n",
    "\n",
    "df.fillna({\"nro_incidencia\": \"\", \"tipo_caso\": \"\", \"tipo_servicio\": \"\", \"Conteo para proactivo\": 0}, inplace= True)\n",
    "df[\"tipo_reporte\"] = df.apply(determine_tipo_reporte, axis=1)"
   ]
  },
  {
   "cell_type": "code",
   "execution_count": null,
   "metadata": {},
   "outputs": [],
   "source": [
    "def determine_component(row):\n",
    "\n",
    "    if row[\"tipo_reporte\"] == \"PROACTIVO\":\n",
    "        return \"COMPONENTE II\"\n",
    "\n",
    "    causa = str(row[\"it_determinacion_de_la_causa\"]) if pd.notna(row[\"it_determinacion_de_la_causa\"]) else \"\"\n",
    "    \n",
    "    roman_numerals = {1: \"I\", 2: \"II\", 3: \"III\", 4: \"IV\", 5: \"V\"}\n",
    "\n",
    "    for i in range(5, 0, -1):\n",
    "        if f\"COMPONENTE {roman_numerals[i]}\" in causa:\n",
    "            return f\"COMPONENTE {roman_numerals[i]}\"\n",
    "    if \"SOLICITUD - Cliente\" in row[\"tipo_incidencia\"]:\n",
    "        return \"SOLICITUD\"\n",
    "    return \"SIN COMPONENTE/MAL ESCRITO\"\n",
    "\n",
    "df[\"componente\"] = df.apply(determine_component, axis=1)\n",
    "colum_select = [\"componente\", \"tipo_incidencia\", \"it_determinacion_de_la_causa\"]\n",
    "df_filter = df[colum_select]\n",
    "df_filter"
   ]
  },
  {
   "cell_type": "code",
   "execution_count": null,
   "metadata": {},
   "outputs": [],
   "source": [
    "from pathlib import Path\n",
    "\n",
    "BASE_DIR = Path.cwd().parent.parent.parent.parent.parent.parent.parent\n",
    "file_path_cuismp_cid = BASE_DIR /  \"media\" / \"minpub\" / \"validator_report\" / \"extract\" / \"sharepoint_cid_cuismp\"/ \"MINPU - CID-CUISMP - AB.xlsx\"  \n",
    "file_path_disponibilidad_servicio_c2 = BASE_DIR /  \"media\" / \"minpub\" / \"validator_report\" / \"extract\" / \"disponibilidad_servicio_c2\"/ \"DISPONIBILIDAD DEL SERVICIO C2.xlsx\"  \n",
    "\n",
    "\n",
    "if not file_path_cuismp_cid.exists():\n",
    "    raise FileNotFoundError(f\" File not found {file_path_cuismp_cid}\")\n",
    "\n",
    "if not file_path_disponibilidad_servicio_c2.exists():\n",
    "    raise FileNotFoundError(f\"File not found {file_path_disponibilidad_servicio_c2}\")\n",
    "\n",
    "df_cuismp_by_cid = pd.read_excel(file_path_cuismp_cid)\n",
    "\n",
    "df_cuismp_by_cid = df_cuismp_by_cid.rename(columns={\"CID\":\"cid\"})\n",
    "\n",
    "df[\"cid\"] = df[\"cid\"].astype(str).fillna(\"\")\n",
    "df_cuismp_by_cid[\"cid\"] = df_cuismp_by_cid[\"cid\"].astype(str).fillna(\"\")\n",
    "\n",
    "df = df.merge(df_cuismp_by_cid, on=\"cid\", how=\"left\")"
   ]
  }
 ],
 "metadata": {
  "kernelspec": {
   "display_name": "venv",
   "language": "python",
   "name": "python3"
  },
  "language_info": {
   "codemirror_mode": {
    "name": "ipython",
    "version": 3
   },
   "file_extension": ".py",
   "mimetype": "text/x-python",
   "name": "python",
   "nbconvert_exporter": "python",
   "pygments_lexer": "ipython3",
   "version": "3.10.11"
  }
 },
 "nbformat": 4,
 "nbformat_minor": 2
}
