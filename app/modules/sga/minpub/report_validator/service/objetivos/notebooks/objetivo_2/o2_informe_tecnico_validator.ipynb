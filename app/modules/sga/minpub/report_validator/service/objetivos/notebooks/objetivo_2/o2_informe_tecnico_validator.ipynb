{
 "cells": [
  {
   "cell_type": "code",
   "execution_count": null,
   "metadata": {},
   "outputs": [],
   "source": [
    "import pandas as pd\n",
    "pd.set_option('display.max_rows', None)\n",
    "pd.set_option('display.max_columns', None)\n",
    "pd.set_option('display.max_colwidth', None)\n",
    "pd.set_option('display.max_info_columns', 10000)\n",
    "pd.set_option('display.width', 1000)\n",
    "pd.set_option('display.float_format', '{:.2f}'.format)\n"
   ]
  },
  {
   "cell_type": "code",
   "execution_count": null,
   "metadata": {},
   "outputs": [],
   "source": [
    "\n",
    "def get_dataframe_summary(df):\n",
    "    \"\"\"\n",
    "    Returns a summary DataFrame for the given DataFrame.\n",
    "    \n",
    "    The summary includes:\n",
    "      - Data Type\n",
    "      - Non Null Count\n",
    "      - Null Count\n",
    "      - Null Percentage\n",
    "      - Unique Values count\n",
    "    \"\"\"\n",
    "    pd.set_option('display.max_rows', None)\n",
    "    pd.set_option('display.max_columns', None)\n",
    "    pd.set_option('display.width', 1000)\n",
    "    \n",
    "    summary_df = pd.DataFrame({\n",
    "        'Data Type': df.dtypes,\n",
    "        'Non Null Count': df.count(),\n",
    "        'Null Count': df.isna().sum(),\n",
    "        'Null Percentage': (df.isna().sum() / len(df) * 100).round(2),\n",
    "        'Unique Values': [df[col].nunique() for col in df.columns],\n",
    "    })\n",
    "    \n",
    "    return summary_df"
   ]
  },
  {
   "cell_type": "code",
   "execution_count": null,
   "metadata": {},
   "outputs": [],
   "source": [
    "from pathlib import Path\n",
    "import sys\n",
    "\n",
    "# 1) Where is this notebook?\n",
    "notebook_dir = Path.cwd()\n",
    "\n",
    "# 2) Climb up until you get to the folder that contains \"app/\"\n",
    "#    parents[2] goes up from objetivo_2 → notebooks → objetivos → …\n",
    "#    count how many levels from objetivo_2 to BOTS_RPA: in your case it's 8 levels\n",
    "project_root = notebook_dir.parents[8]\n",
    "\n",
    "# 3) Insert it at front of sys.path\n",
    "sys.path.insert(0, str(project_root))\n",
    "\n",
    "# 4) Now imports of \"app.…\" will succeed\n",
    "\n",
    "from app.modules.sga.minpub.report_validator.service.objetivos.calculations import extract_tecnico_reports_without_hours_last_dates\n",
    "from app.modules.sga.minpub.report_validator.service.objetivos.preprocessing import preprocess_corte_excel\n",
    "from app.modules.sga.minpub.report_validator.service.objetivos.preprocessing import preprocess_df_word_datos_informe_tecnico\n",
    "from app.modules.sga.minpub.report_validator.service.objetivos.preprocessing import preprocess_df_word_telefonia_informe_tecnico\n",
    "from app.modules.sga.minpub.report_validator.service.objetivos.mergers.merge_word_datos_informe_corte_excel import merge_word_datos_informe_corte_excel \n",
    "from app.modules.sga.minpub.report_validator.service.objetivos.mergers.merge_word_telefonia_informe_corte_excel import merge_word_telefonia_informe_corte_excel\n",
    "from app.modules.sga.minpub.report_validator.service.objetivos.objetivo_2.o2_informe_tecnico_validator import validate_informe_tecnico_word\n",
    "from app.modules.sga.minpub.report_validator.service.objetivos.objetivo_2.o2_informe_tecnico_validator import build_failure_messages_validate_informe_tecnico_word\n"
   ]
  },
  {
   "cell_type": "code",
   "execution_count": null,
   "metadata": {},
   "outputs": [],
   "source": [
    "BASE_DIR = Path.cwd().parent.parent.parent.parent.parent.parent.parent.parent.parent\n",
    "SAVE_DIR_EXTRACT_EXCEL = BASE_DIR / \"media\" / \"minpub\" / \"validator_report\" / \"extract\" / \"excel\"/ \"CORTE 2.xlsx\"\n",
    "SAVE_DIR_EXTRACT_SGA_335 = BASE_DIR / \"media\" / \"minpub\" / \"validator_report\" / \"extract\" / \"sga_335\" / \"sga_reporte_30-03-2025_06-04-2025_20250410_173936.xlsx\"\n",
    "CID_CUISMP_PATH = BASE_DIR / \"media\" / \"minpub\" / \"validator_report\" / \"extract\" / \"sharepoint_cid_cuismp\" / \"MINPU - CID-CUISMP - AB.xlsx\"\n",
    "DIR_PARADAS_RELOJ = BASE_DIR / \"media\" / \"minpub\" / \"validator_report\" / \"extract\" / \"pausa_cliente\" / \"sga_reporte_30-03-2025_06-04-2025_20250428_151430.xlsx\"\n",
    "DIR_WORD_DATOS = BASE_DIR / \"media\" / \"minpub\" / \"validator_report\" / \"extract\" / \"word_datos\" / \"COMPONENTE 2-DATOS - CORTE 2.docx\"\n",
    "DIR_WORD_TELEFONIA = BASE_DIR / \"media\" / \"minpub\" / \"validator_report\" / \"extract\" / \"word_telefonia\" / \"COMPONENTE 4 - TELEFONOS - CORTE 2.docx\"\n",
    "\n"
   ]
  },
  {
   "cell_type": "code",
   "execution_count": null,
   "metadata": {},
   "outputs": [],
   "source": [
    "df_corte_excel = pd.read_excel(SAVE_DIR_EXTRACT_EXCEL, skipfooter=2, engine=\"openpyxl\")\n",
    "df_sga_dinamico_335 = pd.read_excel(SAVE_DIR_EXTRACT_SGA_335) \n",
    "df_sga_dinamico_380 = pd.read_excel(DIR_PARADAS_RELOJ)\n",
    "df_cid_cuismp_sharepoint = pd.read_excel(CID_CUISMP_PATH)\n",
    "\n",
    "df_word_datos_informe_tec =  extract_tecnico_reports_without_hours_last_dates(DIR_WORD_DATOS)\n",
    "df_word_telefonia_informe_tec = extract_tecnico_reports_without_hours_last_dates(DIR_WORD_TELEFONIA)\n",
    "\n",
    "\n"
   ]
  },
  {
   "cell_type": "code",
   "execution_count": null,
   "metadata": {},
   "outputs": [],
   "source": [
    "\n",
    "df_process_word = preprocess_df_word_datos_informe_tecnico(df_word_datos_informe_tec)\n",
    "summary = get_dataframe_summary(df_process_word)\n",
    "#summary"
   ]
  },
  {
   "cell_type": "code",
   "execution_count": null,
   "metadata": {},
   "outputs": [],
   "source": [
    "\n",
    "df_corte_excel = preprocess_corte_excel(df_corte_excel)\n",
    "\n"
   ]
  },
  {
   "cell_type": "code",
   "execution_count": null,
   "metadata": {},
   "outputs": [],
   "source": [
    "df_matched_word_datos_informe_tecnico_corte_excel = merge_word_datos_informe_corte_excel(\n",
    "        df_word_datos_informe_tec,\n",
    "        df_corte_excel,\n",
    "        'both'\n",
    "        )\n",
    "    \n",
    "    #INFORME TECNICO - TELEFONIA - EXCEL\n",
    "df_matched_word_telefonia_informe_tecnico_corte_excel = merge_word_telefonia_informe_corte_excel(\n",
    "        df_word_telefonia_informe_tec,\n",
    "        df_corte_excel,\n",
    "        'both'\n",
    "        )"
   ]
  },
  {
   "cell_type": "code",
   "execution_count": null,
   "metadata": {},
   "outputs": [],
   "source": [
    "df_vali = validate_informe_tecnico_word(df_matched_word_datos_informe_tecnico_corte_excel, 'COMPONENTE II')\n",
    "df_vali_tel = validate_informe_tecnico_word(df_matched_word_telefonia_informe_tecnico_corte_excel, 'COMPONENTE IV' )\n"
   ]
  },
  {
   "cell_type": "code",
   "execution_count": null,
   "metadata": {},
   "outputs": [],
   "source": [
    "df_mess = build_failure_messages_validate_informe_tecnico_word(df_vali)\n",
    "#df_mess_TELE = build_failure_messages_validate_informe_tecnico_word(df_vali_tel)\n",
    "df_mess"
   ]
  }
 ],
 "metadata": {
  "kernelspec": {
   "display_name": "venv",
   "language": "python",
   "name": "python3"
  },
  "language_info": {
   "codemirror_mode": {
    "name": "ipython",
    "version": 3
   },
   "file_extension": ".py",
   "mimetype": "text/x-python",
   "name": "python",
   "nbconvert_exporter": "python",
   "pygments_lexer": "ipython3",
   "version": "3.10.11"
  }
 },
 "nbformat": 4,
 "nbformat_minor": 2
}
