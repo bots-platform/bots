{
 "cells": [
  {
   "cell_type": "code",
   "execution_count": null,
   "metadata": {},
   "outputs": [],
   "source": [
    "import pandas as pd\n",
    "pd.set_option('display.max_rows', None)\n",
    "pd.set_option('display.max_columns', None)\n",
    "pd.set_option('display.max_colwidth', None)\n",
    "pd.set_option('display.max_info_columns', 10000)\n",
    "pd.set_option('display.width', 1000)\n",
    "pd.set_option('display.float_format', '{:.2f}'.format)\n"
   ]
  },
  {
   "cell_type": "code",
   "execution_count": null,
   "metadata": {},
   "outputs": [],
   "source": [
    "def get_dataframe_summary(df):\n",
    "    \"\"\"\n",
    "    Returns a summary DataFrame for the given DataFrame.\n",
    "    \n",
    "    The summary includes:\n",
    "      - Data Type\n",
    "      - Non Null Count\n",
    "      - Null Count\n",
    "      - Null Percentage\n",
    "      - Unique Values count\n",
    "    \"\"\"\n",
    "    pd.set_option('display.max_rows', None)\n",
    "    pd.set_option('display.max_columns', None)\n",
    "    pd.set_option('display.width', 1000)\n",
    "    \n",
    "    summary_df = pd.DataFrame({\n",
    "        'Data Type': df.dtypes,\n",
    "        'Non Null Count': df.count(),\n",
    "        'Null Count': df.isna().sum(),\n",
    "        'Null Percentage': (df.isna().sum() / len(df) * 100).round(2),\n",
    "        'Unique Values': [df[col].nunique() for col in df.columns],\n",
    "    })\n",
    "    \n",
    "    return summary_df"
   ]
  },
  {
   "cell_type": "code",
   "execution_count": null,
   "metadata": {},
   "outputs": [],
   "source": [
    "from pathlib import Path\n",
    "import sys\n",
    "\n",
    "# 1) Where is this notebook?\n",
    "notebook_dir = Path.cwd()\n",
    "\n",
    "# 2) Climb up until you get to the folder that contains \"app/\"\n",
    "#    parents[2] goes up from objetivo_2 → notebooks → objetivos → …\n",
    "#    count how many levels from objetivo_2 to BOTS_RPA: in your case it's 8 levels\n",
    "project_root = notebook_dir.parents[8]\n",
    "\n",
    "# 3) Insert it at front of sys.path\n",
    "sys.path.insert(0, str(project_root))\n",
    "\n",
    "# 4) Now imports of \"app.…\" will succeed\n",
    "\n",
    "\n"
   ]
  },
  {
   "cell_type": "code",
   "execution_count": null,
   "metadata": {},
   "outputs": [],
   "source": [
    "from app.modules.sga.minpub.report_validator.service.objetivos.validators.objetivo_1.run import run_objetivo_1\n",
    "from app.modules.sga.minpub.report_validator.service.objetivos.validators.objetivo_2.run import run_objetivo_2\n",
    "from app.modules.sga.minpub.report_validator.service.objetivos.validators.objetivo_3.run import run_objetivo_3"
   ]
  },
  {
   "cell_type": "code",
   "execution_count": null,
   "metadata": {},
   "outputs": [],
   "source": [
    "\n",
    "# EXTRACT IMPORTS\n",
    "from app.modules.sga.minpub.report_validator.service.objetivos.etl.extract.cuadro_averias import (\n",
    "    extract_averias_table\n",
    ") \n",
    "from app.modules.sga.minpub.report_validator.service.objetivos.etl.extract.informe_tecnico import (\n",
    "    extract_tecnico_reports_without_hours_last_dates\n",
    ")\n",
    "from app.modules.sga.minpub.report_validator.service.objetivos.etl.extract.anexo_indisponibilidad import (\n",
    "    extract_indisponibilidad_anexos\n",
    ")"
   ]
  },
  {
   "cell_type": "code",
   "execution_count": null,
   "metadata": {},
   "outputs": [],
   "source": [
    "# TRANSFORM IMPORTS\n",
    "from app.modules.sga.minpub.report_validator.service.objetivos.etl.transform.averias import ( \n",
    "    preprocess_df_word_averias\n",
    ")\n",
    "from app.modules.sga.minpub.report_validator.service.objetivos.etl.transform.informe_tecnico import ( \n",
    "    preprocess_df_word_informe_tecnico\n",
    ")\n",
    "from app.modules.sga.minpub.report_validator.service.objetivos.etl.transform.anexos import ( \n",
    "    preprocess_df_word_anexos_indisponibilidad\n",
    ")\n",
    "from app.modules.sga.minpub.report_validator.service.objetivos.etl.transform.sga_335 import ( \n",
    "    preprocess_335\n",
    ")\n",
    "from app.modules.sga.minpub.report_validator.service.objetivos.etl.transform.sga_380 import ( \n",
    "    preprocess_380\n",
    ")\n",
    "from app.modules.sga.minpub.report_validator.service.objetivos.etl.transform.cuismp_sharepoint import ( \n",
    "    preprocess_df_cid_cuismp_sharepoint\n",
    ")\n",
    "from app.modules.sga.minpub.report_validator.service.objetivos.etl.transform.corte_excel import ( \n",
    "    preprocess_corte_excel\n",
    ")"
   ]
  },
  {
   "cell_type": "code",
   "execution_count": null,
   "metadata": {},
   "outputs": [],
   "source": [
    "# MERGE IMPORTS\n",
    "from app.modules.sga.minpub.report_validator.service.objetivos.etl.merge.excel_sga.excel_sga import ( \n",
    "merge_sga_335_corte_excel_sharepoint_cuismp_sga380\n",
    ")\n",
    "from app.modules.sga.minpub.report_validator.service.objetivos.etl.merge.cuadro_averias.datos import ( \n",
    "merge_word_datos_averias_corte_excel\n",
    ")\n",
    "from app.modules.sga.minpub.report_validator.service.objetivos.etl.merge.cuadro_averias.telefonia import ( \n",
    "merge_word_telefonia_averias_corte_excel\n",
    ")\n",
    "from app.modules.sga.minpub.report_validator.service.objetivos.etl.merge.informe_tecnico.datos import ( \n",
    "merge_word_datos_informe_corte_excel\n",
    ")\n",
    "from app.modules.sga.minpub.report_validator.service.objetivos.etl.merge.informe_tecnico.telefonia import ( \n",
    "merge_word_telefonia_informe_corte_excel\n",
    ")\n",
    "from app.modules.sga.minpub.report_validator.service.objetivos.etl.merge.anexo_indisponibilidad.datos import ( \n",
    "merge_word_datos_anexos_disponibilidad_df_merged_sga\n",
    ")\n",
    "from app.modules.sga.minpub.report_validator.service.objetivos.etl.merge.anexo_indisponibilidad.telefonia import ( \n",
    "merge_word_telefonia_anexos_disponibilidad_df_merged_sga\n",
    ")\n"
   ]
  },
  {
   "cell_type": "code",
   "execution_count": null,
   "metadata": {},
   "outputs": [],
   "source": [
    "from app.modules.sga.minpub.report_validator.service.objetivos.validators.objetivo_3.o1_anexos_sustentos_paradas_reloj_validator import validate_anexos_indisponibilidad_word\n",
    "from app.modules.sga.minpub.report_validator.service.objetivos.validators.objetivo_3.o1_anexos_sustentos_paradas_reloj_validator import build_failure_messages_validate_anexos_indisponibilidad_word\n"
   ]
  },
  {
   "cell_type": "code",
   "execution_count": null,
   "metadata": {},
   "outputs": [],
   "source": [
    "BASE_DIR = Path.cwd().parent.parent.parent.parent.parent.parent.parent.parent.parent\n",
    "SAVE_DIR_EXTRACT_EXCEL = BASE_DIR / \"media\" / \"minpub\" / \"validator_report\" / \"extract\" / \"excel\"/ \"CORTE 1 -MES 17.xlsx\"\n",
    "SAVE_DIR_EXTRACT_SGA_335 = BASE_DIR / \"media\" / \"minpub\" / \"validator_report\" / \"extract\" / \"sga_335\" / \"sga_reporte_23-04-2025_28-04-2025_20250505_094111.xlsx\"\n",
    "CID_CUISMP_PATH = BASE_DIR / \"media\" / \"minpub\" / \"validator_report\" / \"extract\" / \"sharepoint_cid_cuismp\" / \"MINPU - CID-CUISMP - AB.xlsx\"\n",
    "DIR_PARADAS_RELOJ = BASE_DIR / \"media\" / \"minpub\" / \"validator_report\" / \"extract\" / \"pausa_cliente\" / \"sga_reporte_23-04-2025_28-04-2025_20250505_094643.xlsx\"\n",
    "DIR_WORD_DATOS = BASE_DIR / \"media\" / \"minpub\" / \"validator_report\" / \"extract\" / \"word_datos\" / \"COMPONENTE 2-DATOS.docx\"\n",
    "DIR_WORD_TELEFONIA = BASE_DIR / \"media\" / \"minpub\" / \"validator_report\" / \"extract\" / \"word_telefonia\" / \"COMPONENTE 4 - TELEFONOS.docx\""
   ]
  },
  {
   "cell_type": "code",
   "execution_count": null,
   "metadata": {},
   "outputs": [],
   "source": [
    "df_corte_excel = pd.read_excel(SAVE_DIR_EXTRACT_EXCEL, skipfooter=2, engine=\"openpyxl\")\n",
    "df_sga_dinamico_335 = pd.read_excel(SAVE_DIR_EXTRACT_SGA_335) \n",
    "df_sga_dinamico_380 = pd.read_excel(DIR_PARADAS_RELOJ)\n",
    "df_cid_cuismp_sharepoint = pd.read_excel(CID_CUISMP_PATH)\n",
    "\n",
    "\n",
    "df_word_datos_anexos_indis =  extract_indisponibilidad_anexos(DIR_WORD_DATOS)\n",
    "df_word_telefonia_anexos_indis = extract_indisponibilidad_anexos(DIR_WORD_TELEFONIA)\n",
    "\n"
   ]
  },
  {
   "cell_type": "code",
   "execution_count": null,
   "metadata": {},
   "outputs": [],
   "source": [
    "df_word_telefonia_anexos_indis"
   ]
  },
  {
   "cell_type": "code",
   "execution_count": null,
   "metadata": {},
   "outputs": [],
   "source": [
    "\n",
    "df_process_word = preprocess_df_word_anexos_indisponibilidad(df_word_telefonia_anexos_indis)\n",
    "summary = get_dataframe_summary(df_process_word)\n",
    "summary"
   ]
  },
  {
   "cell_type": "code",
   "execution_count": null,
   "metadata": {},
   "outputs": [],
   "source": [
    "\n",
    "df_preprocss_excel = preprocess_corte_excel(df_corte_excel)\n",
    "df_preprocss_sharepoint_cuismp = preprocess_df_cid_cuismp_sharepoint(df_cid_cuismp_sharepoint)\n",
    "df_preprocss_sga335 = preprocess_335(df_sga_dinamico_335)\n",
    "df_preprocss_sga380 = preprocess_380(df_sga_dinamico_380)\n",
    "\n"
   ]
  },
  {
   "cell_type": "code",
   "execution_count": null,
   "metadata": {},
   "outputs": [],
   "source": [
    "df_process_word.head(1)"
   ]
  },
  {
   "cell_type": "code",
   "execution_count": null,
   "metadata": {},
   "outputs": [],
   "source": [
    "df_matched_corte_sga335_Sharepoint_cuismp_sga380 = merge_sga_335_corte_excel_sharepoint_cuismp_sga380(\n",
    "        df_preprocss_excel, df_preprocss_sga335,\n",
    "        df_preprocss_sharepoint_cuismp, df_preprocss_sga380,\n",
    "        'both'\n",
    "        )\n",
    "#df_matched_corte_sga335_Sharepoint_cuismp_sga380.head(1)\n",
    "df_matched_corte_sga335_Sharepoint_cuismp_sga380[df_matched_corte_sga335_Sharepoint_cuismp_sga380['nro_incidencia']=='21809231']"
   ]
  },
  {
   "cell_type": "code",
   "execution_count": null,
   "metadata": {},
   "outputs": [],
   "source": [
    "merge_word_dfs_merged_anexos_dato = merge_word_datos_anexos_disponibilidad_df_merged_sga(\n",
    "    df_matched_corte_sga335_Sharepoint_cuismp_sga380,\n",
    "    df_process_word,\n",
    "      'left_only' )\n",
    "merge_word_dfs_merged_anexos_dato.head(1)"
   ]
  },
  {
   "cell_type": "code",
   "execution_count": null,
   "metadata": {},
   "outputs": [],
   "source": [
    "summa_word = get_dataframe_summary(df_process_word)\n",
    "summa_word"
   ]
  },
  {
   "cell_type": "code",
   "execution_count": null,
   "metadata": {},
   "outputs": [],
   "source": [
    "sum_excel = get_dataframe_summary(df_preprocss_excel)\n",
    "#sum_excel"
   ]
  },
  {
   "cell_type": "code",
   "execution_count": null,
   "metadata": {},
   "outputs": [],
   "source": [
    "row = df_preprocss_excel[df_preprocss_excel['nro_incidencia'] == '21809231']\n",
    "#row"
   ]
  },
  {
   "cell_type": "code",
   "execution_count": null,
   "metadata": {},
   "outputs": [],
   "source": [
    "df_vali = validate_anexos_indisponibilidad_word(merge_word_dfs_merged_anexos_dato)\n",
    "#df_vali.head(5)\n",
    "#df_vali[['nro_incidencia','indisponibilidad_extract','expected_indisponibilidad']]\n",
    "row = df_vali[df_vali['nro_incidencia']=='21809231']\n",
    "row\n"
   ]
  },
  {
   "cell_type": "code",
   "execution_count": null,
   "metadata": {},
   "outputs": [],
   "source": [
    "df_mess = build_failure_messages_validate_anexos_indisponibilidad_word(df_vali)\n",
    "df_mess"
   ]
  }
 ],
 "metadata": {
  "kernelspec": {
   "display_name": "venv",
   "language": "python",
   "name": "python3"
  },
  "language_info": {
   "codemirror_mode": {
    "name": "ipython",
    "version": 3
   },
   "file_extension": ".py",
   "mimetype": "text/x-python",
   "name": "python",
   "nbconvert_exporter": "python",
   "pygments_lexer": "ipython3",
   "version": "3.10.11"
  }
 },
 "nbformat": 4,
 "nbformat_minor": 2
}
