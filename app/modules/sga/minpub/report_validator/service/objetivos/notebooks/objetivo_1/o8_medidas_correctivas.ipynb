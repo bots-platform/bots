{
 "cells": [
  {
   "cell_type": "code",
   "execution_count": 1,
   "metadata": {},
   "outputs": [],
   "source": [
    "import pandas as pd\n",
    "pd.set_option('display.max_rows', None)\n",
    "pd.set_option('display.max_columns', None)\n",
    "pd.set_option('display.max_colwidth', None)\n",
    "pd.set_option('display.max_info_columns', 10000)\n",
    "pd.set_option('display.width', 1000)\n",
    "pd.set_option('display.float_format', '{:.2f}'.format)\n"
   ]
  },
  {
   "cell_type": "code",
   "execution_count": 2,
   "metadata": {},
   "outputs": [],
   "source": [
    "from pathlib import Path\n",
    "import sys\n",
    "\n",
    "# 1) Where is this notebook?\n",
    "notebook_dir = Path.cwd()\n",
    "\n",
    "# 2) Climb up until you get to the folder that contains \"app/\"\n",
    "#    parents[2] goes up from objetivo_2 → notebooks → objetivos → …\n",
    "#    count how many levels from objetivo_2 to BOTS_RPA: in your case it's 8 levels\n",
    "project_root = notebook_dir.parents[8]\n",
    "\n",
    "# 3) Insert it at front of sys.path\n",
    "sys.path.insert(0, str(project_root))\n",
    "\n",
    "# 4) Now imports of \"app.…\" will succeed\n"
   ]
  },
  {
   "cell_type": "code",
   "execution_count": 3,
   "metadata": {},
   "outputs": [],
   "source": [
    "# EXTRACT IMPORTS\n",
    "from app.modules.sga.minpub.report_validator.service.objetivos.etl.extract.cuadro_averias import (\n",
    "    extract_averias_table\n",
    ") \n",
    "from app.modules.sga.minpub.report_validator.service.objetivos.etl.extract.informe_tecnico import (\n",
    "    extract_tecnico_reports_without_hours_last_dates\n",
    ")\n",
    "from app.modules.sga.minpub.report_validator.service.objetivos.etl.extract.anexo_indisponibilidad import (\n",
    "    extract_indisponibilidad_anexos\n",
    ")"
   ]
  },
  {
   "cell_type": "code",
   "execution_count": 4,
   "metadata": {},
   "outputs": [],
   "source": [
    "# TRANSFORM IMPORTS\n",
    "from app.modules.sga.minpub.report_validator.service.objetivos.etl.transform.averias import ( \n",
    "    preprocess_df_word_averias\n",
    ")\n",
    "from app.modules.sga.minpub.report_validator.service.objetivos.etl.transform.informe_tecnico import ( \n",
    "    preprocess_df_word_informe_tecnico\n",
    ")\n",
    "from app.modules.sga.minpub.report_validator.service.objetivos.etl.transform.anexos import ( \n",
    "    preprocess_df_word_anexos_indisponibilidad\n",
    ")\n",
    "from app.modules.sga.minpub.report_validator.service.objetivos.etl.transform.sga_335 import ( \n",
    "    preprocess_335\n",
    ")\n",
    "from app.modules.sga.minpub.report_validator.service.objetivos.etl.transform.sga_380 import ( \n",
    "    preprocess_380\n",
    ")\n",
    "from app.modules.sga.minpub.report_validator.service.objetivos.etl.transform.cuismp_sharepoint import ( \n",
    "    preprocess_df_cid_cuismp_sharepoint\n",
    ")\n",
    "from app.modules.sga.minpub.report_validator.service.objetivos.etl.transform.corte_excel import ( \n",
    "    preprocess_corte_excel\n",
    ")"
   ]
  },
  {
   "cell_type": "code",
   "execution_count": 5,
   "metadata": {},
   "outputs": [],
   "source": [
    "# MERGE IMPORTS\n",
    "from app.modules.sga.minpub.report_validator.service.objetivos.etl.merge.excel_sga.excel_sga import ( \n",
    "merge_sga_335_corte_excel_sharepoint_cuismp_sga380\n",
    ")\n"
   ]
  },
  {
   "cell_type": "code",
   "execution_count": 6,
   "metadata": {},
   "outputs": [],
   "source": [
    "from app.modules.sga.minpub.report_validator.service.objetivos.validators.objetivo_1.o8_medidas_correctivas import validation_medidas_correctivas\n",
    "from app.modules.sga.minpub.report_validator.service.objetivos.validators.objetivo_1.o8_medidas_correctivas import build_failure_messages_medidas_correctivas"
   ]
  },
  {
   "cell_type": "code",
   "execution_count": 7,
   "metadata": {},
   "outputs": [],
   "source": [
    "BASE_DIR = Path.cwd().parent.parent.parent.parent.parent.parent.parent.parent.parent\n",
    "SAVE_DIR_EXTRACT_EXCEL = BASE_DIR / \"media\" / \"minpub\" / \"validator_report\" / \"extract\" / \"excel\"/ \"CORTE 2 - 02.06 AL 08.06.xlsx\" \n",
    "SAVE_DIR_EXTRACT_SGA_335 = BASE_DIR / \"media\" / \"minpub\" / \"validator_report\" / \"extract\" / \"sga_335\" / \"sga_reporte_31-05-2025_09-06-2025_20250611_094354_20250616_143347.xlsx\"\n",
    "CID_CUISMP_PATH = BASE_DIR / \"media\" / \"minpub\" / \"validator_report\" / \"extract\" / \"sharepoint_cid_cuismp\" / \"MINPU - CID-CUISMP - AB (25).xlsx\"\n",
    "DIR_PARADAS_RELOJ = BASE_DIR / \"media\" / \"minpub\" / \"validator_report\" / \"extract\" / \"pausa_cliente\" / \"sga_reporte_31-05-2025_09-06-2025_20250611_094926_20250616_143347.xlsx\"\n",
    "DIR_WORD_DATOS = BASE_DIR / \"media\" / \"minpub\" / \"validator_report\" / \"extract\" / \"word_datos\" / \"COMPONENTE 2-DATOS (12).docx\"\n",
    "DIR_WORD_TELEFONIA = BASE_DIR / \"media\" / \"minpub\" / \"validator_report\" / \"extract\" / \"word_telefonia\" / \"COMPONENTE 4 - TELEFONOS (9).docx\""
   ]
  },
  {
   "cell_type": "code",
   "execution_count": 8,
   "metadata": {},
   "outputs": [],
   "source": [
    "#df_corte_excel = pd.read_excel(SAVE_DIR_EXTRACT_EXCEL, skipfooter=0, engine=\"openpyxl\")\n",
    "#df_corte_excel = pd.read_excel(SAVE_DIR_EXTRACT_EXCEL, engine=\"openpyxl\")\n",
    "#df_sga_dinamico_335 = pd.read_excel(SAVE_DIR_EXTRACT_SGA_335) \n",
    "from app.modules.sga.minpub.report_validator.service.objetivos.etl.extract.corte_excel import extract_corte_excel\n",
    "from app.modules.sga.minpub.report_validator.service.objetivos.etl.extract.sga_335 import extract_sga_335\n",
    "\n",
    "\n",
    "df_sga_dinamico_335 = extract_sga_335(SAVE_DIR_EXTRACT_SGA_335) \n",
    "df_corte_excel = extract_corte_excel(SAVE_DIR_EXTRACT_EXCEL, skipfooter=0)\n",
    "df_sga_dinamico_380 = pd.read_excel(DIR_PARADAS_RELOJ)\n",
    "df_cid_cuismp_sharepoint = pd.read_excel(CID_CUISMP_PATH)"
   ]
  },
  {
   "cell_type": "code",
   "execution_count": 9,
   "metadata": {},
   "outputs": [],
   "source": [
    "\n",
    "df_corte_excel = preprocess_corte_excel(df_corte_excel)\n",
    "df_cid_cuismp_sharepoint = preprocess_df_cid_cuismp_sharepoint(df_cid_cuismp_sharepoint)\n",
    "df_sga_dinamico_335 = preprocess_335(df_sga_dinamico_335)\n",
    "df_sga_dinamico_380 = preprocess_380(df_sga_dinamico_380)"
   ]
  },
  {
   "cell_type": "code",
   "execution_count": 10,
   "metadata": {},
   "outputs": [],
   "source": [
    "#df_corte_excel"
   ]
  },
  {
   "cell_type": "code",
   "execution_count": null,
   "metadata": {},
   "outputs": [],
   "source": [
    "row = df_corte_excel[df_corte_excel['nro_incidencia'] == '21830861']\n",
    "row"
   ]
  },
  {
   "cell_type": "code",
   "execution_count": 12,
   "metadata": {},
   "outputs": [],
   "source": [
    "df_matched_corte_sga335_Sharepoint_cuismp_sga380 = merge_sga_335_corte_excel_sharepoint_cuismp_sga380(\n",
    "        df_corte_excel, df_sga_dinamico_335,\n",
    "        df_cid_cuismp_sharepoint, df_sga_dinamico_380,\n",
    "        'both'\n",
    "        )\n",
    "\n"
   ]
  },
  {
   "cell_type": "code",
   "execution_count": null,
   "metadata": {},
   "outputs": [],
   "source": [
    "row = df_matched_corte_sga335_Sharepoint_cuismp_sga380[df_matched_corte_sga335_Sharepoint_cuismp_sga380['nro_incidencia'] == '21830861']\n",
    "row"
   ]
  },
  {
   "cell_type": "code",
   "execution_count": 14,
   "metadata": {},
   "outputs": [],
   "source": [
    "# # Filtra la fila por el número de incidente\n",
    "# filtro = df_matched_corte_sga335_Sharepoint_cuismp_sga380['nro_incidencia'] == \"21830861\"\n",
    "# fila = df_matched_corte_sga335_Sharepoint_cuismp_sga380.loc[filtro, 'MEDIDAS CORRECTIVAS Y/O PREVENTIVAS TOMADAS']\n",
    "\n",
    "\n",
    "# print(repr(fila))"
   ]
  },
  {
   "cell_type": "code",
   "execution_count": 15,
   "metadata": {},
   "outputs": [],
   "source": [
    "\n",
    "# def get_dataframe_summary(df):\n",
    "#     \"\"\"\n",
    "#     Returns a summary DataFrame for the given DataFrame.\n",
    "    \n",
    "#     The summary includes:\n",
    "#       - Data Type\n",
    "#       - Non Null Count\n",
    "#       - Null Count\n",
    "#       - Null Percentage\n",
    "#       - Unique Values count\n",
    "#     \"\"\"\n",
    "#     pd.set_option('display.max_rows', None)\n",
    "#     pd.set_option('display.max_columns', None)\n",
    "#     pd.set_option('display.width', 1000)\n",
    "    \n",
    "#     summary_df = pd.DataFrame({\n",
    "#         'Data Type': df.dtypes,\n",
    "#         'Non Null Count': df.count(),\n",
    "#         'Null Count': df.isna().sum(),\n",
    "#         'Null Percentage': (df.isna().sum() / len(df) * 100).round(2),\n",
    "#         'Unique Values': [df[col].nunique() for col in df.columns],\n",
    "#     })\n",
    "    \n",
    "#     return summary_df"
   ]
  },
  {
   "cell_type": "code",
   "execution_count": null,
   "metadata": {},
   "outputs": [],
   "source": [
    "\n",
    "\n",
    "from app.modules.sga.minpub.report_validator.service.objetivos.etl.transform.corte_excel import get_dataframe_summary\n",
    "\n",
    "\n",
    "df_show = get_dataframe_summary(df_matched_corte_sga335_Sharepoint_cuismp_sga380)\n",
    "df_show"
   ]
  },
  {
   "cell_type": "code",
   "execution_count": null,
   "metadata": {},
   "outputs": [],
   "source": [
    "from app.modules.sga.minpub.report_validator.service.objetivos.utils.calculations import has_multiple_A_traves_mayus\n",
    "\n",
    "\n",
    "df_matched_corte_sga335_Sharepoint_cuismp_sga380['no_repeticion_A_traves_ok'] = ~df_matched_corte_sga335_Sharepoint_cuismp_sga380['MEDIDAS CORRECTIVAS Y/O PREVENTIVAS TOMADAS'].apply(has_multiple_A_traves_mayus)\n",
    "filtro = df_matched_corte_sga335_Sharepoint_cuismp_sga380[df_matched_corte_sga335_Sharepoint_cuismp_sga380['no_repeticion_A_traves_ok'] == False ]\n",
    "filtro"
   ]
  },
  {
   "cell_type": "code",
   "execution_count": null,
   "metadata": {},
   "outputs": [],
   "source": [
    "df_vali = validation_medidas_correctivas(df_matched_corte_sga335_Sharepoint_cuismp_sga380)\n",
    "df_vali\n",
    "row = df_vali[df_vali['nro_incidencia'] == '21830861']\n",
    "row\n"
   ]
  },
  {
   "cell_type": "code",
   "execution_count": null,
   "metadata": {},
   "outputs": [],
   "source": [
    "df_mess = build_failure_messages_medidas_correctivas(df_vali)\n",
    "df_mess"
   ]
  },
  {
   "cell_type": "code",
   "execution_count": null,
   "metadata": {},
   "outputs": [],
   "source": []
  }
 ],
 "metadata": {
  "kernelspec": {
   "display_name": "venv",
   "language": "python",
   "name": "python3"
  },
  "language_info": {
   "codemirror_mode": {
    "name": "ipython",
    "version": 3
   },
   "file_extension": ".py",
   "mimetype": "text/x-python",
   "name": "python",
   "nbconvert_exporter": "python",
   "pygments_lexer": "ipython3",
   "version": "3.10.11"
  }
 },
 "nbformat": 4,
 "nbformat_minor": 2
}
