{
 "cells": [
  {
   "cell_type": "code",
   "execution_count": null,
   "metadata": {},
   "outputs": [],
   "source": [
    "import pandas as pd\n",
    "from pathlib import Path\n",
    "pd.set_option('display.max_rows', None)\n",
    "pd.set_option('display.max_columns', None)\n",
    "pd.set_option('display.max_colwidth', None)\n",
    "pd.set_option('display.max_info_columns', 10000)\n",
    "pd.set_option('display.width', 1000)\n",
    "pd.set_option('display.float_format', '{:.2f}'.format)\n",
    "\n",
    "import seaborn as sns\n",
    "%matplotlib inline\n",
    "import re\n"
   ]
  },
  {
   "cell_type": "code",
   "execution_count": null,
   "metadata": {},
   "outputs": [],
   "source": [
    "def cut_decimal_part(df, column):\n",
    "    \"\"\"\n",
    "    Converts a DataFrame column from float (or numeric string) to a string\n",
    "    by removing the decimal part (i.e. converting 13.5 to \"13\", 12.0 to \"12\").\n",
    "    Non-numeric values are converted to NaN and then to an empty string.\n",
    "    \"\"\"\n",
    "    df[column] = pd.to_numeric(df[column], errors='coerce')\n",
    "\n",
    "    df[column] = df[column].apply(lambda x: str(int(x)) if pd.notnull(x) else '')\n",
    "    \n",
    "    return df\n"
   ]
  },
  {
   "cell_type": "code",
   "execution_count": null,
   "metadata": {},
   "outputs": [],
   "source": [
    "\n",
    "def handle_null_values(df, fill_str=\"\", fill_float=0.0, fill_datetime=\"\"):\n",
    "    \"\"\"\n",
    "    Fill null values in DataFrame columns based on data type.\n",
    "\n",
    "    Parameters:\n",
    "        df (pd.DataFrame): The input DataFrame.\n",
    "        fill_str (str): Value to replace nulls in object/string columns. Default is \"\".\n",
    "        fill_float (float): Value to replace nulls in float columns. Default is 0.0.\n",
    "        fill_datetime: Value to replace nulls in datetime columns. \n",
    "                       Default is \"\", but you can also pass a default datetime.\n",
    "    \n",
    "    Returns:\n",
    "        pd.DataFrame: The DataFrame with nulls handled.\n",
    "    \"\"\"\n",
    "\n",
    "    obj_cols = df.select_dtypes(include=['object']).columns\n",
    "    for col in obj_cols:\n",
    "        df[col] = df[col].fillna(fill_str).astype(str)\n",
    "    \n",
    "\n",
    "    float_cols = df.select_dtypes(include=['float64']).columns\n",
    "    for col in float_cols:\n",
    "        df[col] = df[col].fillna(fill_float)\n",
    "        \n",
    "\n",
    "    datetime_cols = df.select_dtypes(include=['datetime64[ns]']) \n",
    "    for col in datetime_cols:\n",
    "        df[col] = df[col].fillna(fill_datetime)\n",
    "        \n",
    "    return df"
   ]
  },
  {
   "cell_type": "code",
   "execution_count": null,
   "metadata": {},
   "outputs": [],
   "source": [
    "import pandas as pd\n",
    "\n",
    "def get_dataframe_summary(df):\n",
    "    \"\"\"\n",
    "    Returns a summary DataFrame for the given DataFrame.\n",
    "    \n",
    "    The summary includes:\n",
    "      - Data Type\n",
    "      - Non Null Count\n",
    "      - Null Count\n",
    "      - Null Percentage\n",
    "      - Unique Values count\n",
    "    \"\"\"\n",
    "    pd.set_option('display.max_rows', None)\n",
    "    pd.set_option('display.max_columns', None)\n",
    "    pd.set_option('display.width', 1000)\n",
    "    \n",
    "    summary_df = pd.DataFrame({\n",
    "        'Data Type': df.dtypes,\n",
    "        'Non Null Count': df.count(),\n",
    "        'Null Count': df.isna().sum(),\n",
    "        'Null Percentage': (df.isna().sum() / len(df) * 100).round(2),\n",
    "        'Unique Values': [df[col].nunique() for col in df.columns],\n",
    "    })\n",
    "    \n",
    "    return summary_df"
   ]
  },
  {
   "cell_type": "code",
   "execution_count": null,
   "metadata": {},
   "outputs": [],
   "source": [
    "BASE_DIR = Path.cwd().parent.parent.parent.parent.parent.parent.parent.parent\n",
    "SAVE_DIR_EXTRACT_EXCEL = BASE_DIR / \"media\" / \"minpub\" / \"validator_report\" / \"extract\" / \"excel\"/ \"CORTE 3 _ 10-03-25 AL 16-03-25_20250328_182204.xlsx\"\n",
    "SAVE_DIR_EXTRACT_SGA_335 = BASE_DIR / \"media\" / \"minpub\" / \"validator_report\" / \"extract\" / \"sga_335\" / \"sga_reporte_10-03-2025_16-03-2025_20250402_112253.xlsx\"\n",
    "CID_CUISMP_PATH = BASE_DIR / \"media\" / \"minpub\" / \"validator_report\" / \"extract\" / \"sharepoint_cid_cuismp\" / \"MINPU - CID-CUISMP - AB.xlsx\"\n"
   ]
  },
  {
   "cell_type": "code",
   "execution_count": null,
   "metadata": {},
   "outputs": [],
   "source": [
    "df_corte_excel = pd.read_excel(SAVE_DIR_EXTRACT_EXCEL, skipfooter=2, engine=\"openpyxl\")"
   ]
  },
  {
   "cell_type": "code",
   "execution_count": null,
   "metadata": {},
   "outputs": [],
   "source": [
    "info_df_excel2 = get_dataframe_summary(df_corte_excel)\n",
    "df_corte_excel = cut_decimal_part(df_corte_excel, 'CUISMP')\n",
    "\n",
    "info_df_excel2"
   ]
  },
  {
   "cell_type": "code",
   "execution_count": null,
   "metadata": {},
   "outputs": [],
   "source": [
    "df_corte_excel = handle_null_values(df_corte_excel)\n",
    "info_df_excel2 = get_dataframe_summary(df_corte_excel)\n",
    "info_df_excel2\n"
   ]
  },
  {
   "cell_type": "code",
   "execution_count": null,
   "metadata": {},
   "outputs": [],
   "source": [
    "df_corte_excel.head(1)"
   ]
  },
  {
   "cell_type": "code",
   "execution_count": null,
   "metadata": {},
   "outputs": [],
   "source": [
    "\n",
    "df_sga_dinamico_335 = pd.read_excel(SAVE_DIR_EXTRACT_SGA_335)\n",
    "info_df_335 = get_dataframe_summary(df_sga_dinamico_335)\n",
    "info_df_335"
   ]
  },
  {
   "cell_type": "code",
   "execution_count": null,
   "metadata": {},
   "outputs": [],
   "source": [
    "df_sga_dinamico_335.head(1)"
   ]
  },
  {
   "cell_type": "code",
   "execution_count": null,
   "metadata": {},
   "outputs": [],
   "source": [
    "\n",
    "df_sga_dinamico_335['interrupcion_inicio'] =df_sga_dinamico_335['interrupcion_inicio'].astype(str).apply(lambda x : re.sub(r\"\\s+\", \" \", x.strip()))\n",
    "df_sga_dinamico_335['interrupcion_fin'] =df_sga_dinamico_335['interrupcion_fin'].astype(str).apply(lambda x : re.sub(r\"\\s+\", \" \", x.strip()))"
   ]
  },
  {
   "cell_type": "code",
   "execution_count": null,
   "metadata": {},
   "outputs": [],
   "source": [
    "df_sga_dinamico_335['interrupcion_inicio'] = pd.to_datetime(df_sga_dinamico_335['interrupcion_inicio'], errors='coerce', dayfirst=True)\n",
    "df_sga_dinamico_335['interrupcion_fin'] = pd.to_datetime(df_sga_dinamico_335['interrupcion_fin'], errors='coerce', dayfirst=True)"
   ]
  },
  {
   "cell_type": "code",
   "execution_count": null,
   "metadata": {},
   "outputs": [],
   "source": [
    "df_sga_dinamico_335 = handle_null_values(df_sga_dinamico_335)\n",
    "info_sga_dinamico_335 = get_dataframe_summary(df_sga_dinamico_335)\n",
    "info_sga_dinamico_335\n"
   ]
  },
  {
   "cell_type": "code",
   "execution_count": null,
   "metadata": {},
   "outputs": [],
   "source": [
    "null_rows = df_sga_dinamico_335[df_sga_dinamico_335['interrupcion_inicio'].isna()]\n",
    "null_rows.shape"
   ]
  },
  {
   "cell_type": "code",
   "execution_count": null,
   "metadata": {},
   "outputs": [],
   "source": [
    "import numpy as np\n",
    "\n",
    "df_sga_dinamico_335['Expected_Inicio'] = np.where(df_sga_dinamico_335['masivo'] == \"Si\",\n",
    "                                     df_sga_dinamico_335['fecha_generacion'],\n",
    "                                     df_sga_dinamico_335['interrupcion_inicio'])\n",
    "df_sga_dinamico_335.head(1)\n"
   ]
  },
  {
   "cell_type": "code",
   "execution_count": null,
   "metadata": {},
   "outputs": [],
   "source": [
    "info_sga_dinamico_335 = get_dataframe_summary(df_sga_dinamico_335)\n",
    "info_sga_dinamico_335"
   ]
  },
  {
   "cell_type": "code",
   "execution_count": null,
   "metadata": {},
   "outputs": [],
   "source": [
    "\n",
    "df_sharepoint_cid_cuismp = pd.read_excel(CID_CUISMP_PATH)\n",
    "info_df_cuismp = get_dataframe_summary(df_sharepoint_cid_cuismp)\n",
    "info_df_cuismp"
   ]
  },
  {
   "cell_type": "code",
   "execution_count": null,
   "metadata": {},
   "outputs": [],
   "source": [
    "df_sharepoint_cid_cuismp = handle_null_values(df_sharepoint_cid_cuismp)\n",
    "df_sharepoint_cid_cuismp = cut_decimal_part(df_sharepoint_cid_cuismp, 'CUISMP')\n",
    "info_df_cuismp = get_dataframe_summary(df_sharepoint_cid_cuismp)\n",
    "info_df_cuismp"
   ]
  },
  {
   "cell_type": "code",
   "execution_count": null,
   "metadata": {},
   "outputs": [],
   "source": [
    "df_sharepoint_cid_cuismp.head(1)"
   ]
  },
  {
   "cell_type": "markdown",
   "metadata": {},
   "source": [
    "Validación de Columnas en B1, “CUISMP” y “DF”: A partir del código de incidencia (“nro_incidencia”) en B2, se obtiene el CID, y con el CID y DF en B4, se obtiene el CUISMP y DF, se compara con el CUISMP y DF de B1 respectivamente, deben coincidir el CUISMP y DF. Además, el CUISMP también debe figurar en la columna “MEDIDAS CORRECTIVAS Y/O PREVENTIVAS TOMADAS” de B1."
   ]
  },
  {
   "cell_type": "code",
   "execution_count": null,
   "metadata": {},
   "outputs": [],
   "source": [
    "def merge_df_sharepoint_cid_cuimp_df_sga_dinamico(df_sga_dinamico_335, df_sharepoint_cid_cuismp ):\n",
    "\n",
    "    df_sharepoint_cid_cuismp = df_sharepoint_cid_cuismp.rename(columns={\"CID\":\"cid\"})\n",
    "    df_sharepoint_cid_cuismp[\"cid\"] = df_sharepoint_cid_cuismp[\"cid\"].astype(str).fillna(\"\")\n",
    "    df_sga_dinamico_335[\"cid\"] = df_sga_dinamico_335[\"cid\"].astype(str).fillna(\"\")\n",
    "\n",
    "    merge_sga_dinamico_335_sharepoint_cid_cuismp = pd.merge(\n",
    "        df_sga_dinamico_335,\n",
    "        df_sharepoint_cid_cuismp,\n",
    "        on='cid',\n",
    "        how='left',\n",
    "        suffixes=('_sga_dinamico_335', '_sharepoint_cid_cuismp')\n",
    "    ) \n",
    "\n",
    "    return merge_sga_dinamico_335_sharepoint_cid_cuismp\n",
    "\n",
    "df = merge_df_sharepoint_cid_cuimp_df_sga_dinamico(df_sga_dinamico_335, df_sharepoint_cid_cuismp)\n",
    "df.head(1)\n"
   ]
  },
  {
   "cell_type": "code",
   "execution_count": null,
   "metadata": {},
   "outputs": [],
   "source": [
    "info_df_cuismp_335 = get_dataframe_summary(df)\n",
    "info_df_cuismp_335"
   ]
  },
  {
   "cell_type": "code",
   "execution_count": null,
   "metadata": {},
   "outputs": [],
   "source": [
    "def merge_df_corte_excel_merge_sga_dinamico_335_sharepoint_cid_cuismp(df_corte_excel, merge_sga_dinamico_335_sharepoint_cid_cuismp):\n",
    "\n",
    "    df_corte_excel = df_corte_excel.rename(columns={'TICKET':'nro_incidencia'})\n",
    "    #df_corte_excel['nro_incidencia'] = df_corte_excel['nro_incidencia'].astype(str).fillna('')\n",
    "\n",
    "    merged_all = pd.merge(\n",
    "        df_corte_excel,\n",
    "        merge_sga_dinamico_335_sharepoint_cid_cuismp,\n",
    "        on='nro_incidencia',\n",
    "        how='left',\n",
    "        suffixes=('_corte_excel', '_sga_dinamico_335_sharepoint_cid_cuismp')\n",
    "    )\n",
    "    return merged_all\n",
    "\n",
    "merged_all = merge_df_corte_excel_merge_sga_dinamico_335_sharepoint_cid_cuismp(df_corte_excel, df)\n",
    "merged_all.head(1)"
   ]
  },
  {
   "cell_type": "code",
   "execution_count": null,
   "metadata": {},
   "outputs": [],
   "source": [
    "pd.set_option('display.max_colwidth', None)\n",
    "\n",
    "merged_all['CUISMP_match'] = merged_all['CUISMP_corte_excel'] == merged_all['CUISMP_sga_dinamico_335_sharepoint_cid_cuismp']\n",
    "\n",
    "merged_all['DF_match'] = merged_all['DF'] == merged_all['Distrito Fiscal']\n",
    "\n",
    "medidas_col = 'MEDIDAS CORRECTIVAS Y/O PREVENTIVAS TOMADAS'\n",
    "\n",
    "merged_all['CUISMP_in_medias_tomadas'] = merged_all.apply(\n",
    "    lambda row: (\n",
    "        pd.notnull(row[medidas_col]) \n",
    "        and pd.notnull(row['CUISMP_corte_excel']) \n",
    "        #and str(int(row['CUISMP_corte_excel'])) in str(row[medidas_col])\n",
    "        and row['CUISMP_corte_excel'] in row[medidas_col]\n",
    "    ), \n",
    "    axis=1\n",
    ")\n",
    "\n",
    "merged_all['Validation_OK'] = merged_all['CUISMP_match'] & merged_all['DF_match'] & merged_all['CUISMP_in_medias_tomadas']\n",
    "\n",
    "merged_all['fail_count'] = (~merged_all['CUISMP_match']).astype(int) + \\\n",
    "                               (~merged_all['DF_match']).astype(int) + \\\n",
    "                               (~merged_all['CUISMP_in_medias_tomadas']).astype(int)\n",
    "\n",
    "merged_all.head(1)\n",
    "\n"
   ]
  },
  {
   "cell_type": "code",
   "execution_count": null,
   "metadata": {},
   "outputs": [],
   "source": [
    "import numpy as np\n",
    "mensaje = np.where(\n",
    "        merged_all['Validation_OK'],\n",
    "        \"Validation successful\",\n",
    "        (\n",
    "            np.where(~merged_all['CUISMP_match'], \n",
    "                     \"CUISMP mismatch: expected \" + merged_all['CUISMP_sga_dinamico_335_sharepoint_cid_cuismp'].astype(str) +\n",
    "                     \" but got \" + merged_all['CUISMP_corte_excel'].astype(str) + \". \", \"\") +\n",
    "            np.where(~merged_all['DF_match'], \n",
    "                     \"DF mismatch: expected \" + merged_all['Distrito Fiscal'].astype(str) +\n",
    "                     \" but got \" + merged_all['DF'].astype(str) + \". \", \"\") +\n",
    "            np.where(~merged_all['CUISMP_in_medias_tomadas'], \n",
    "                     \"CUISMP not found in MEDIDAS CORRECTIVAS Y/O PREVENTIVAS TOMADAS.\", \"\")\n",
    "        )\n",
    "    )\n",
    "merged_all['mensaje'] = mensaje\n",
    "merged_all['objetivo'] = 1\n",
    "\n",
    "df_failures = merged_all[merged_all['fail_count'] > 0]\n",
    "df_failures[['nro_incidencia', 'mensaje', 'objetivo']]"
   ]
  },
  {
   "cell_type": "code",
   "execution_count": null,
   "metadata": {},
   "outputs": [],
   "source": []
  }
 ],
 "metadata": {
  "kernelspec": {
   "display_name": "venv",
   "language": "python",
   "name": "python3"
  },
  "language_info": {
   "codemirror_mode": {
    "name": "ipython",
    "version": 3
   },
   "file_extension": ".py",
   "mimetype": "text/x-python",
   "name": "python",
   "nbconvert_exporter": "python",
   "pygments_lexer": "ipython3",
   "version": "3.10.11"
  }
 },
 "nbformat": 4,
 "nbformat_minor": 2
}
