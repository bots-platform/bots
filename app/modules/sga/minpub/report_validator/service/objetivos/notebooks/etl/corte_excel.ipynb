{
 "cells": [
  {
   "cell_type": "code",
   "execution_count": 1,
   "metadata": {},
   "outputs": [],
   "source": [
    "import pandas as pd\n",
    "pd.set_option('display.max_rows', None)\n",
    "pd.set_option('display.max_columns', None)\n",
    "pd.set_option('display.max_colwidth', None)\n",
    "pd.set_option('display.max_info_columns', 10000)\n",
    "pd.set_option('display.width', 1000)\n",
    "pd.set_option('display.float_format', '{:.2f}'.format)"
   ]
  },
  {
   "cell_type": "code",
   "execution_count": 2,
   "metadata": {},
   "outputs": [],
   "source": [
    "from pathlib import Path\n",
    "import sys\n",
    "\n",
    "# 1) Where is this notebook?\n",
    "notebook_dir = Path.cwd()\n",
    "\n",
    "# 2) Climb up until you get to the folder that contains \"app/\"\n",
    "#    parents[2] goes up from objetivo_2 → notebooks → objetivos → …\n",
    "#    count how many levels from objetivo_2 to BOTS_RPA: in your case it's 8 levels\n",
    "project_root = notebook_dir.parents[8]\n",
    "\n",
    "# 3) Insert it at front of sys.path\n",
    "sys.path.insert(0, str(project_root))\n",
    "\n",
    "# 4) Now imports of \"app.…\" will succeed"
   ]
  },
  {
   "cell_type": "code",
   "execution_count": 3,
   "metadata": {},
   "outputs": [],
   "source": [
    "from app.modules.sga.minpub.report_validator.service.objetivos.utils.etl_utils import get_dataframe_summary\n"
   ]
  },
  {
   "cell_type": "code",
   "execution_count": 4,
   "metadata": {},
   "outputs": [],
   "source": [
    "BASE_DIR = Path.cwd().parent.parent.parent.parent.parent.parent.parent.parent.parent\n",
    "SAVE_DIR_EXTRACT_EXCEL = BASE_DIR / \"media\" / \"minpub\" / \"validator_report\" / \"extract\" / \"excel\"/ \"CORTE 1 - 23 04 AL 28 04.xlsx\"\n"
   ]
  },
  {
   "cell_type": "code",
   "execution_count": 5,
   "metadata": {},
   "outputs": [],
   "source": [
    "from app.modules.sga.minpub.report_validator.service.objetivos.etl.extract.corte_excel import ( \n",
    "        extract_corte_excel\n",
    ")"
   ]
  },
  {
   "cell_type": "code",
   "execution_count": 6,
   "metadata": {},
   "outputs": [],
   "source": [
    "#df_corte_excel = pd.read_excel(SAVE_DIR_EXTRACT_EXCEL, skipfooter=0, engine=\"openpyxl\")\n",
    "df_corte_excel = extract_corte_excel(SAVE_DIR_EXTRACT_EXCEL, skipfooter=0)"
   ]
  },
  {
   "cell_type": "code",
   "execution_count": null,
   "metadata": {},
   "outputs": [],
   "source": [
    "row = df_corte_excel[df_corte_excel['TICKET'] == 21810606]\n",
    "row"
   ]
  },
  {
   "cell_type": "code",
   "execution_count": null,
   "metadata": {},
   "outputs": [],
   "source": [
    "text_cols = df_corte_excel.select_dtypes(include=\"object\").columns\n",
    "print(text_cols)"
   ]
  },
  {
   "cell_type": "code",
   "execution_count": null,
   "metadata": {},
   "outputs": [],
   "source": [
    "df_corte_excel[text_cols] = (\n",
    "        df_corte_excel[text_cols]\n",
    "        .apply(lambda col: (\n",
    "            col\n",
    "            .str.replace('\\r', ' ', regex=False)   \n",
    "            .str.replace('_x000D_', '', regex=False)\n",
    "            .str.strip()\n",
    "        ))\n",
    "    )\n",
    "row = df_corte_excel[df_corte_excel['TICKET'] == 21810606]\n",
    "row"
   ]
  },
  {
   "cell_type": "code",
   "execution_count": 10,
   "metadata": {},
   "outputs": [],
   "source": [
    "row = df_corte_excel[df_corte_excel['TICKET'] == 21810606]\n",
    "#row"
   ]
  },
  {
   "cell_type": "code",
   "execution_count": null,
   "metadata": {},
   "outputs": [],
   "source": [
    "summary_df = get_dataframe_summary(df_corte_excel)\n",
    "summary_df"
   ]
  },
  {
   "cell_type": "code",
   "execution_count": null,
   "metadata": {},
   "outputs": [],
   "source": []
  }
 ],
 "metadata": {
  "kernelspec": {
   "display_name": "venv",
   "language": "python",
   "name": "python3"
  },
  "language_info": {
   "codemirror_mode": {
    "name": "ipython",
    "version": 3
   },
   "file_extension": ".py",
   "mimetype": "text/x-python",
   "name": "python",
   "nbconvert_exporter": "python",
   "pygments_lexer": "ipython3",
   "version": "3.10.11"
  }
 },
 "nbformat": 4,
 "nbformat_minor": 2
}
